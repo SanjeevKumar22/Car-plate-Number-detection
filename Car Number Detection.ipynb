{
 "cells": [
  {
   "cell_type": "code",
   "execution_count": 123,
   "id": "32a7c1b5",
   "metadata": {},
   "outputs": [],
   "source": [
    "import numpy as np\n",
    "import cv2"
   ]
  },
  {
   "cell_type": "code",
   "execution_count": 125,
   "id": "9c49a5e5",
   "metadata": {},
   "outputs": [],
   "source": [
    "img=cv2.imread('m.jpg')\n",
    "img1=cv2.imread('m.jpg')\n"
   ]
  },
  {
   "cell_type": "code",
   "execution_count": 127,
   "id": "d252f407",
   "metadata": {},
   "outputs": [],
   "source": [
    "cv2.imshow('car',img)\n",
    "cv2.waitKey(0)\n",
    "cv2.destroyAllWindows()\n"
   ]
  },
  {
   "cell_type": "code",
   "execution_count": 129,
   "id": "4d91a6e4",
   "metadata": {},
   "outputs": [],
   "source": [
    "img1=cv2.cvtColor(img,cv2.COLOR_BGR2GRAY)\n",
    "img1=cv2.bilateralFilter(img1,10,15,15)"
   ]
  },
  {
   "cell_type": "code",
   "execution_count": 131,
   "id": "756b7c98",
   "metadata": {},
   "outputs": [],
   "source": [
    "edges=cv2.Canny(img1,50,200)"
   ]
  },
  {
   "cell_type": "code",
   "execution_count": 133,
   "metadata": {},
   "outputs": [],
   "source": [
    "cv2.imshow('car',edges)\n",
    "cv2.waitKey(0)\n",
    "cv2.destroyAllWindows()\n"
   ]
  },
  {
   "cell_type": "code",
   "execution_count": 135,
   "metadata": {},
   "outputs": [],
   "source": [
    "cnt,_=cv2.findContours(edges,cv2.RETR_TREE,cv2.CHAIN_APPROX_NONE)"
   ]
  },
  {
   "cell_type": "code",
   "execution_count": 137,
   "metadata": {},
   "outputs": [],
   "source": [
    "cnt=sorted(cnt,key=cv2.contourArea,reverse=True)[:30]"
   ]
  },
  {
   "cell_type": "code",
   "execution_count": 138,
   "metadata": {},
   "outputs": [],
   "source": [
    "for i in cnt:\n",
    "    peri=cv2.arcLength(i,True)\n",
    "    approx=cv2.approxPolyDP(i,0.01*peri,True)\n",
    "    if(len(approx)==4):\n",
    "        sct=approx\n",
    "        break"
   ]
  },
  {
   "cell_type": "code",
   "execution_count": 139,
   "metadata": {},
   "outputs": [
    {
     "output_type": "execute_result",
     "data": {
      "text/plain": [
       "array([[[426, 228]],\n",
       "\n",
       "       [[419, 269]],\n",
       "\n",
       "       [[194, 274]],\n",
       "\n",
       "       [[188, 232]]], dtype=int32)"
      ]
     },
     "metadata": {},
     "execution_count": 139
    }
   ],
   "source": [
    "sct"
   ]
  },
  {
   "cell_type": "code",
   "execution_count": 140,
   "metadata": {},
   "outputs": [],
   "source": [
    "q=cv2.drawContours(img,[sct],0,(0,255,0),10)"
   ]
  },
  {
   "cell_type": "code",
   "execution_count": 141,
   "metadata": {},
   "outputs": [],
   "source": [
    "cv2.imshow('car',q)\n",
    "cv2.waitKey(0)\n",
    "cv2.destroyAllWindows()"
   ]
  },
  {
   "cell_type": "code",
   "execution_count": 142,
   "metadata": {},
   "outputs": [
    {
     "output_type": "execute_result",
     "data": {
      "text/plain": [
       "(338, 600, 3)"
      ]
     },
     "metadata": {},
     "execution_count": 142
    }
   ],
   "source": [
    "img.shape"
   ]
  },
  {
   "cell_type": "code",
   "execution_count": 143,
   "metadata": {},
   "outputs": [],
   "source": [
    "mask=np.zeros((338,600),dtype='uint8')"
   ]
  },
  {
   "cell_type": "code",
   "execution_count": 144,
   "metadata": {},
   "outputs": [],
   "source": [
    "mask=cv2.rectangle(mask,(sct[0][0][0],sct[0][0][1]),(sct[2][0][0],sct[2][0][1]),(255,255,255),-1)"
   ]
  },
  {
   "cell_type": "code",
   "execution_count": 145,
   "metadata": {},
   "outputs": [],
   "source": [
    "cv2.imshow('car',mask)\n",
    "cv2.waitKey(0)\n",
    "cv2.destroyAllWindows()"
   ]
  },
  {
   "cell_type": "code",
   "execution_count": 146,
   "metadata": {},
   "outputs": [],
   "source": [
    "zz=cv2.bitwise_and(img1,img1,mask=mask)"
   ]
  },
  {
   "cell_type": "code",
   "execution_count": 147,
   "metadata": {},
   "outputs": [],
   "source": [
    "cv2.imshow('car',zz)\n",
    "cv2.waitKey(0)\n",
    "cv2.destroyAllWindows()"
   ]
  },
  {
   "cell_type": "code",
   "execution_count": 148,
   "metadata": {},
   "outputs": [],
   "source": [
    "import pytesseract\n",
    "pytesseract.pytesseract.tesseract_cmd=r'C:\\Program Files (x86)\\Tesseract-OCR\\tesseract.exe'"
   ]
  },
  {
   "cell_type": "code",
   "execution_count": 149,
   "metadata": {},
   "outputs": [
    {
     "output_type": "execute_result",
     "data": {
      "text/plain": [
       "'MH20 EJ 0365\\n\\x0c'"
      ]
     },
     "metadata": {},
     "execution_count": 149
    }
   ],
   "source": [
    "pytesseract.image_to_string(zz)"
   ]
  },
  {
   "cell_type": "code",
   "execution_count": 150,
   "metadata": {},
   "outputs": [],
   "source": [
    "# img=cv2.imread('c.jfif')\n",
    "# cv2.imshow('car',img)\n",
    "# cv2.waitKey(0)\n",
    "# cv2.destroyAllWindows()"
   ]
  },
  {
   "cell_type": "code",
   "execution_count": 151,
   "metadata": {},
   "outputs": [],
   "source": [
    "import os\n",
    "dir=os.listdir()"
   ]
  },
  {
   "cell_type": "code",
   "execution_count": 152,
   "metadata": {},
   "outputs": [
    {
     "output_type": "execute_result",
     "data": {
      "text/plain": [
       "['.ipynb_checkpoints',\n",
       " '.vscode',\n",
       " 'b.jfif',\n",
       " 'c.jfif',\n",
       " 'Car Number Detection.ipynb',\n",
       " 'm.jpg']"
      ]
     },
     "metadata": {},
     "execution_count": 152
    }
   ],
   "source": [
    "dir"
   ]
  },
  {
   "cell_type": "code",
   "execution_count": 153,
   "metadata": {},
   "outputs": [],
   "source": [
    "imagefiles=[f for f in os.listdir() if (f.endswith('.jpg') or f.endswith('.jfif') )]"
   ]
  },
  {
   "cell_type": "code",
   "execution_count": 154,
   "metadata": {},
   "outputs": [
    {
     "output_type": "execute_result",
     "data": {
      "text/plain": [
       "['b.jfif', 'c.jfif', 'm.jpg']"
      ]
     },
     "metadata": {},
     "execution_count": 154
    }
   ],
   "source": [
    "imagefiles"
   ]
  },
  {
   "cell_type": "code",
   "execution_count": 155,
   "metadata": {},
   "outputs": [],
   "source": [
    "flag=0"
   ]
  },
  {
   "cell_type": "code",
   "execution_count": 161,
   "metadata": {},
   "outputs": [
    {
     "output_type": "stream",
     "name": "stdout",
     "text": [
      "b.jfif\n",
      "\fc.jfif\n",
      "\fm.jpg\n",
      "MH20 EJ 0365\n",
      "\f"
     ]
    }
   ],
   "source": [
    "for i in range(0,len(imagefiles)):\n",
    "    trial=imagefiles[i]\n",
    "    print(trial)\n",
    "    img=cv2.imread(trial)\n",
    "    img1=cv2.imread(trial)\n",
    "    img1=cv2.cvtColor(img,cv2.COLOR_BGR2GRAY)\n",
    "    img1=cv2.bilateralFilter(img1,10,15,15)\n",
    "    edges=cv2.Canny(img1,50,200)\n",
    "    cnt,_=cv2.findContours(edges,cv2.RETR_TREE,cv2.CHAIN_APPROX_NONE)\n",
    "    cnt=sorted(cnt,key=cv2.contourArea,reverse=True)[:30]\n",
    "    for i in cnt:\n",
    "        peri=cv2.arcLength(i,True)\n",
    "        approx=cv2.approxPolyDP(i,0.01*peri,True)\n",
    "        if(len(approx)==4):\n",
    "            sct=approx\n",
    "            break\n",
    "    q=cv2.drawContours(img,[sct],0,(0,255,0),10)\n",
    "    mask=np.zeros((img1.shape[0],img1.shape[1]),dtype='uint8')\n",
    "    mask=cv2.rectangle(mask,(sct[0][0][0],sct[0][0][1]),(sct[2][0][0],sct[2][0][1]),(255,255,255),-1)\n",
    "    zz=cv2.bitwise_and(img1,img1,mask=mask)\n",
    "    final=pytesseract.image_to_string(zz)\n",
    "    cv2.imshow('car',zz)\n",
    "    cv2.waitKey(0)\n",
    "    cv2.destroyAllWindows()\n",
    "    b=['|','@','_','?','/']\n",
    "    for i in final:\n",
    "        for j in b:\n",
    "            if(i==j):\n",
    "                flag=1\n",
    "                break\n",
    "            else:\n",
    "                continue\n",
    "        if(flag==0):\n",
    "             print(i,end=\"\")\n",
    "        else:\n",
    "            print(\" \",end=\"\")\n",
    "  \n",
    "\n",
    "\n",
    "\n"
   ]
  },
  {
   "cell_type": "code",
   "execution_count": null,
   "metadata": {},
   "outputs": [],
   "source": []
  }
 ],
 "metadata": {
  "kernelspec": {
   "name": "python3",
   "display_name": "Python 3.8.2 32-bit"
  },
  "language_info": {
   "codemirror_mode": {
    "name": "ipython",
    "version": 3
   },
   "file_extension": ".py",
   "mimetype": "text/x-python",
   "name": "python",
   "nbconvert_exporter": "python",
   "pygments_lexer": "ipython3",
   "version": "3.8.2"
  },
  "interpreter": {
   "hash": "7590bd58ea2ea4fc6a234307e5b079dcfb8d678f5b01c8f82d501afaa83d255b"
  }
 },
 "nbformat": 4,
 "nbformat_minor": 5
}